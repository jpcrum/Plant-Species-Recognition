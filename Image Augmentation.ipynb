{
 "cells": [
  {
   "cell_type": "code",
   "execution_count": 1,
   "metadata": {
    "collapsed": true
   },
   "outputs": [],
   "source": [
    "import cv2\n",
    "import pandas as pd\n",
    "import numpy as np\n",
    "import matplotlib.pyplot as plt\n",
    "import imutils\n",
    "import os"
   ]
  },
  {
   "cell_type": "code",
   "execution_count": 14,
   "metadata": {
    "collapsed": true
   },
   "outputs": [],
   "source": [
    "# image_filenames = []\n",
    "# for root, dirs, files in os.walk(\"C:/Users/sjcrum/Documents/Data Science Capstone/PlantImages/train\"):\n",
    "#     if len(files) > 0:\n",
    "#         for file in files:\n",
    "#             if(file[-3:] == \"png\" or file[-3:] == \"PNG\"):\n",
    "#                 image_filenames.append(str(root)+os.sep+str(file))\n",
    "# print(len(image_filenames))\n",
    "\n",
    "# for image in image_filenames:\n",
    "#     for angle in np.arange(0, 360, 90):\n",
    "#         img = cv2.imread(image)\n",
    "#         rotated = imutils.rotate_bound(img, angle)\n",
    "#         file_without_extension = image[:-4]\n",
    "#         cv2.imwrite(file_without_extension + \"-rot-{}\".format(angle) + \".png\", rotated)\n",
    "        #cv2.imshow(\"Rotated (Correct)\", rotated)\n",
    "        #cv2.waitKey(0)\n",
    "        #cv2.destroyAllWindows()"
   ]
  },
  {
   "cell_type": "code",
   "execution_count": 20,
   "metadata": {},
   "outputs": [
    {
     "name": "stdout",
     "output_type": "stream",
     "text": [
      "C:/Users/sjcrum/Documents/Data Science Capstone/PlantImages/train/Maize/1d21b25f9-rot-0.png\n",
      "rot-0.png\n"
     ]
    }
   ],
   "source": [
    "angle1 = 0\n",
    "full = image_path[:-4] + \"-rot-{}\".format(angle1) + \".png\"\n",
    "print(full)\n",
    "\n",
    "deletion = full[-9:]\n",
    "print(deletion)"
   ]
  },
  {
   "cell_type": "code",
   "execution_count": 21,
   "metadata": {
    "collapsed": true
   },
   "outputs": [],
   "source": [
    "def remove_0_rotation(path):\n",
    "    del_image_filenames = []\n",
    "    for root, dirs, files in os.walk(path):\n",
    "        if len(files) > 0:\n",
    "            for file in files:\n",
    "                if(file[-9:] == \"rot-0.png\"):\n",
    "                    del_image_filenames.append(str(root)+os.sep+str(file))\n",
    "    for image in del_image_filenames:\n",
    "        os.remove(image)\n",
    "        \n",
    "#remove_0_rotation(\"C:/Users/sjcrum/Documents/Data Science Capstone/PlantImages/train\")"
   ]
  },
  {
   "cell_type": "code",
   "execution_count": 22,
   "metadata": {
    "collapsed": true
   },
   "outputs": [],
   "source": [
    "def vertical_flip(path):\n",
    "    vflip_image_filenames = []\n",
    "    for root, dirs, files in os.walk(path):\n",
    "        if len(files) > 0:\n",
    "            for file in files:\n",
    "                if(file[-3:] == \"png\"):\n",
    "                    vflip_image_filenames.append(str(root)+os.sep+str(file))\n",
    "    for image in vflip_image_filenames:\n",
    "        img = cv2.imread(image)\n",
    "        vflipped = cv2.flip(img, 1)\n",
    "        file_without_extension = image[:-4]\n",
    "        cv2.imwrite(file_without_extension + \"vertflip\" + \".png\", vflipped)\n",
    "        \n",
    "#vertical_flip(\"C:/Users/sjcrum/Documents/Data Science Capstone/PlantImages/train\")\n",
    "    "
   ]
  },
  {
   "cell_type": "code",
   "execution_count": 27,
   "metadata": {
    "collapsed": true
   },
   "outputs": [],
   "source": [
    "def horizontal_flip(path):\n",
    "    hflip_image_filenames = []\n",
    "    for root, dirs, files in os.walk(path):\n",
    "        if len(files) > 0:\n",
    "            for file in files:\n",
    "                if(file[-3:] == \"png\"):\n",
    "                    hflip_image_filenames.append(str(root)+os.sep+str(file))\n",
    "    for image in hflip_image_filenames:\n",
    "        img = cv2.imread(image)\n",
    "        hflipped = cv2.flip(img, 0)\n",
    "        file_without_extension = image[:-4]\n",
    "        cv2.imwrite(file_without_extension + \"-hflip\" + \".png\", hflipped)\n",
    "\n",
    "# horizontal_flip(\"C:/Users/sjcrum/Documents/Data Science Capstone/PlantImages/train/Black-grass\")\n",
    "# horizontal_flip(\"C:/Users/sjcrum/Documents/Data Science Capstone/PlantImages/train/Cleavers\")\n",
    "# horizontal_flip(\"C:/Users/sjcrum/Documents/Data Science Capstone/PlantImages/train/Common wheat\")\n",
    "# horizontal_flip(\"C:/Users/sjcrum/Documents/Data Science Capstone/PlantImages/train/Maize\")\n",
    "# horizontal_flip(\"C:/Users/sjcrum/Documents/Data Science Capstone/PlantImages/train/Shepherds Purse\")"
   ]
  },
  {
   "cell_type": "code",
   "execution_count": 31,
   "metadata": {
    "collapsed": true
   },
   "outputs": [],
   "source": [
    "def hflip_some(path):\n",
    "    hflip_image_filenames = []\n",
    "    for root, dirs, files in os.walk(path):\n",
    "        if len(files) > 0:\n",
    "            for file in files:\n",
    "                if(file[-12:] != \"vertflip.png\"):\n",
    "                    hflip_image_filenames.append(str(root)+os.sep+str(file))\n",
    "    for image in hflip_image_filenames:\n",
    "        img = cv2.imread(image)\n",
    "        hflipped = cv2.flip(img, 0)\n",
    "        file_without_extension = image[:-4]\n",
    "        cv2.imwrite(file_without_extension + \"-hflip\" + \".png\", hflipped)\n"
   ]
  },
  {
   "cell_type": "code",
   "execution_count": 32,
   "metadata": {
    "collapsed": true
   },
   "outputs": [],
   "source": [
    "hflip_some(\"C:/Users/sjcrum/Documents/Data Science Capstone/PlantImages/train/Sugar beet\")\n",
    "hflip_some(\"C:/Users/sjcrum/Documents/Data Science Capstone/PlantImages/train/Charlock\")"
   ]
  },
  {
   "cell_type": "code",
   "execution_count": 2,
   "metadata": {},
   "outputs": [
    {
     "name": "stdout",
     "output_type": "stream",
     "text": [
      "50884\n",
      "                      Species  Count\n",
      "0                     Fat Hen   3800\n",
      "1                 Black-grass   4208\n",
      "2                  Sugar beet   4620\n",
      "3                    Cleavers   4592\n",
      "4            Loose Silky-bent   5232\n",
      "5                Common wheat   3536\n",
      "6                    Charlock   4680\n",
      "7            Common Chickweed   4888\n",
      "8                       Maize   3536\n",
      "9   Small-flowered Cranesbill   3968\n",
      "10            Shepherds Purse   3696\n",
      "11          Scentless Mayweed   4128\n"
     ]
    }
   ],
   "source": [
    "image_filenames = []\n",
    "for root, dirs, files in os.walk(\"C:/Users/sjcrum/Documents/Data Science Capstone/PlantImages/train\"):\n",
    "    if len(files) > 0:\n",
    "        for file in files:\n",
    "            if(file[-3:] == \"png\" or file[-3:] == \"PNG\"):\n",
    "                image_filenames.append(str(root)+os.sep+str(file))\n",
    "print(len(image_filenames))\n",
    "\n",
    "def species_count(image_list):\n",
    "    species = []\n",
    "    for image in image_list:\n",
    "        path = os.path.dirname(image)\n",
    "        base = os.path.basename(path)\n",
    "        species.append(base)\n",
    "\n",
    "    species_count = [[x,species.count(x)] for x in set(species)]\n",
    "    species_df = pd.DataFrame(species_count, columns=[\"Species\", \"Count\"])\n",
    "    print(species_df)\n",
    "    \n",
    "species_count(image_filenames)"
   ]
  },
  {
   "cell_type": "code",
   "execution_count": 3,
   "metadata": {},
   "outputs": [
    {
     "name": "stdout",
     "output_type": "stream",
     "text": [
      "                      Species  Count\n",
      "0                     Fat Hen   2040\n",
      "1                 Black-grass   3216\n",
      "2                  Sugar beet   3864\n",
      "3                    Cleavers   2832\n",
      "4            Loose Silky-bent   2496\n",
      "5                Common wheat   2128\n",
      "6                    Charlock   3228\n",
      "7            Common Chickweed   1624\n",
      "8                       Maize   2016\n",
      "9   Small-flowered Cranesbill   2552\n",
      "10            Shepherds Purse   1536\n",
      "11          Scentless Mayweed   1088\n"
     ]
    }
   ],
   "source": []
  },
  {
   "cell_type": "code",
   "execution_count": null,
   "metadata": {
    "collapsed": true
   },
   "outputs": [],
   "source": []
  }
 ],
 "metadata": {
  "kernelspec": {
   "display_name": "Python 3",
   "language": "python",
   "name": "python3"
  },
  "language_info": {
   "codemirror_mode": {
    "name": "ipython",
    "version": 3
   },
   "file_extension": ".py",
   "mimetype": "text/x-python",
   "name": "python",
   "nbconvert_exporter": "python",
   "pygments_lexer": "ipython3",
   "version": "3.6.3"
  }
 },
 "nbformat": 4,
 "nbformat_minor": 2
}
